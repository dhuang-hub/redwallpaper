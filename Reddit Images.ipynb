{
 "cells": [
  {
   "cell_type": "code",
   "execution_count": 13,
   "metadata": {},
   "outputs": [],
   "source": [
    "import bs4\n",
    "import praw\n",
    "import requests"
   ]
  },
  {
   "cell_type": "code",
   "execution_count": 14,
   "metadata": {},
   "outputs": [],
   "source": [
    "reddit_oath = {\n",
    "    'client_id': 'pIxpnAoiGfwE-g',\n",
    "    'client_secret': 'Ueccpv4dJegXUYbmAIdwxevxjDs',\n",
    "    'user_agent': 'wallpapers'\n",
    "}"
   ]
  },
  {
   "cell_type": "code",
   "execution_count": 15,
   "metadata": {},
   "outputs": [],
   "source": [
    "wallpapers = praw.Reddit(**reddit_oath).subreddit('wallpapers')"
   ]
  },
  {
   "cell_type": "code",
   "execution_count": 18,
   "metadata": {},
   "outputs": [
    {
     "name": "stdout",
     "output_type": "stream",
     "text": [
      "http://i.imgur.com/5yeBVeM.jpg jpg\n",
      "http://i.imgur.com/Z6kdWmA.jpg jpg\n",
      "http://i.imgur.com/ezOgN0q.jpg jpg\n",
      "http://i.imgur.com/X39qMYI.jpg jpg\n",
      "https://i.redd.it/gy65o4mk3oe01.png png\n",
      "https://i.imgur.com/CUGGaiZ.jpg jpg\n",
      "https://i.redd.it/n1ci0trfgrey.jpg jpg\n",
      "https://i.redd.it/8kd8jy4vnem01.png png\n",
      "http://i.imgur.com/Fx6BGlt.jpg jpg\n",
      "http://i.imgur.com/OUe6WiC.jpg jpg\n",
      "https://i.imgur.com/trgCguX.jpg jpg\n",
      "http://i.imgur.com/18WeFBs.jpg jpg\n",
      "http://imgur.com/a/rSZlZ com/a/rSZlZ\n",
      "http://imgur.com/Lva7YQS com/Lva7YQS\n",
      "https://i.imgur.com/nIbZJMt.png png\n",
      "https://imgur.com/BlHEH7t com/BlHEH7t\n",
      "https://i.imgur.com/hyt5lCu.jpg jpg\n",
      "http://i.imgur.com/xhGdTZr.jpg jpg\n",
      "https://i.redd.it/59bsn5hgnojy.jpg jpg\n",
      "http://i.imgur.com/et130z3.jpg jpg\n",
      "https://i.redd.it/bm20xrtazslz.jpg jpg\n",
      "http://i.imgur.com/Vzh77Je.jpg jpg\n",
      "http://i.imgur.com/I4IF27V.jpg jpg\n",
      "http://www.imgur.com/ql3o2km com/ql3o2km\n",
      "http://i.imgur.com/7IgHxdh.jpg jpg\n"
     ]
    }
   ],
   "source": [
    "top25 = wallpapers.top(limit=25)\n",
    "\n",
    "for idx, img_sub in enumerate(top25):\n",
    "    img_sub.url.split('.')[-1]\n",
    "    file_ext = img_sub.url.split('.')[-1]\n",
    "    print(img_sub.url, file_ext)\n",
    "#     with open(f'tmp/tmp{idx}.{file_ext}', 'wb') as tmp:\n",
    "#         r = requests.get(img_sub.url, stream=True)\n",
    "#         if r.ok:\n",
    "#             tmp.write(r.content)\n",
    "#     file_ext = img_sub.thumbnail.split('.')[-1]\n",
    "#     with open(f'tmp/tmp{idx}_.{file_ext}', 'wb') as tmp:\n",
    "#         r = requests.get(img_sub.thumbnail, stream=True)\n",
    "#         if r.ok:\n",
    "#             tmp.write(r.content)"
   ]
  },
  {
   "cell_type": "markdown",
   "metadata": {},
   "source": [
    "# Must create a scrape for imgr urls"
   ]
  },
  {
   "cell_type": "code",
   "execution_count": null,
   "metadata": {},
   "outputs": [],
   "source": []
  }
 ],
 "metadata": {
  "kernelspec": {
   "display_name": "Python 3",
   "language": "python",
   "name": "python3"
  },
  "language_info": {
   "codemirror_mode": {
    "name": "ipython",
    "version": 3
   },
   "file_extension": ".py",
   "mimetype": "text/x-python",
   "name": "python",
   "nbconvert_exporter": "python",
   "pygments_lexer": "ipython3",
   "version": "3.7.5"
  }
 },
 "nbformat": 4,
 "nbformat_minor": 2
}
