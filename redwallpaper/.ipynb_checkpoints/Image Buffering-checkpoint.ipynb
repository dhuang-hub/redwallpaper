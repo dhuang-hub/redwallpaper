{
 "cells": [
  {
   "cell_type": "code",
   "execution_count": null,
   "metadata": {},
   "outputs": [],
   "source": [
    "import os\n",
    "import sys\n",
    "import requests\n",
    "import math\n",
    "import cv2\n",
    "from redwallpaper import utils\n",
    "\n",
    "from redwallpaper.RedWallpaperScraper import RedWallpaperScraper "
   ]
  },
  {
   "cell_type": "code",
   "execution_count": null,
   "metadata": {},
   "outputs": [],
   "source": [
    "from redwallpaper import utils`c\n",
    "from redwallpaper.RedWallpaperScraper import RedWallpaperScraper \n",
    "wallpapers = RedWallpaperScraper('top', 'week')"
   ]
  },
  {
   "cell_type": "code",
   "execution_count": null,
   "metadata": {},
   "outputs": [],
   "source": [
    "# for idx, (image, thumbnail) in enumerate(wallpapers):\n",
    "#     file_ext = utils.get_file_ext(image)\n",
    "\n",
    "#     with open(f'wallpapers/tmp{idx}.{file_ext}', 'wb') as tmp:\n",
    "#         r = requests.get(image, stream=True)\n",
    "#         if r.ok:\n",
    "#             tmp.write(r.content)\n",
    "#     if thumbnail:\n",
    "#         file_ext = utils.get_file_ext(thumbnail)\n",
    "#         with open(f'wallpapers/tmp{idx}_.{file_ext}', 'wb') as tmp:\n",
    "#             r = requests.get(thumbnail, stream=True)\n",
    "#             if r.ok:\n",
    "#                 tmp.write(r.content)"
   ]
  },
  {
   "cell_type": "code",
   "execution_count": null,
   "metadata": {},
   "outputs": [],
   "source": [
    "%%timeit\n",
    "import uuid\n",
    "basename = \"mylogfile\"\n",
    "suffix = str(uuid.uuid4().hex)\n",
    "filename = basename + suffix"
   ]
  },
  {
   "cell_type": "code",
   "execution_count": null,
   "metadata": {},
   "outputs": [],
   "source": [
    "%%timeit\n",
    "import datetime\n",
    "basename = \"mylogfile\"\n",
    "suffix = datetime.datetime.now().strftime(\"%y%m%d_%H%M%S%f\")\n",
    "filename = basename + suffix"
   ]
  },
  {
   "cell_type": "code",
   "execution_count": null,
   "metadata": {},
   "outputs": [],
   "source": [
    "with tempfile.NamedTemporaryFile(dir='wallpapers', delete=False) as test:\n",
    "    test.delete=True\n",
    "    print(test.name)"
   ]
  },
  {
   "cell_type": "code",
   "execution_count": null,
   "metadata": {},
   "outputs": [],
   "source": [
    "def download_image(url, directory, delete=True):\n",
    "    file_ext = utils.get_file_ext(url)\n",
    "    \n",
    "    with tempfile.NamedTemporaryFile('wb', suffix='.'+file_ext, dir=directory, delete=delete) as tmp:\n",
    "        r = requests.get(url, stream=True)\n",
    "        if r.ok:\n",
    "            tmp.write(r.content)\n",
    "        return tmp.name.split('/')[-1]"
   ]
  },
  {
   "cell_type": "code",
   "execution_count": null,
   "metadata": {},
   "outputs": [],
   "source": [
    "download_image('https://b.thumbs.redditmedia.com/U1MELat8OtfK_40RiqfW9rgoutHwG_5GsJpnytuQGas.jpg', 'wallpapers', False)"
   ]
  },
  {
   "cell_type": "code",
   "execution_count": null,
   "metadata": {},
   "outputs": [],
   "source": [
    "wallpapers[45:55]"
   ]
  },
  {
   "cell_type": "code",
   "execution_count": null,
   "metadata": {},
   "outputs": [],
   "source": [
    "for fullsize, thumbnail in wallpapers[45:55]:\n",
    "    if thumbnail:\n",
    "        url = thumbnail\n",
    "    else:\n",
    "        url = fullsize\n",
    "    download_image(url, 'wallpapers')"
   ]
  },
  {
   "cell_type": "code",
   "execution_count": null,
   "metadata": {},
   "outputs": [],
   "source": [
    "os.path.exists('wallpaper')"
   ]
  },
  {
   "cell_type": "code",
   "execution_count": null,
   "metadata": {},
   "outputs": [],
   "source": [
    "tmp = tempfile.TemporaryDirectory(dir='wallpapers')"
   ]
  },
  {
   "cell_type": "code",
   "execution_count": null,
   "metadata": {},
   "outputs": [],
   "source": [
    "tmp.name"
   ]
  },
  {
   "cell_type": "code",
   "execution_count": null,
   "metadata": {},
   "outputs": [],
   "source": [
    "open('wallpapers/tmp_v97c084/tmp.txt', 'w')"
   ]
  },
  {
   "cell_type": "code",
   "execution_count": null,
   "metadata": {},
   "outputs": [],
   "source": [
    "tmp.cleanup()"
   ]
  },
  {
   "cell_type": "code",
   "execution_count": null,
   "metadata": {},
   "outputs": [],
   "source": [
    "utils.download_image?"
   ]
  },
  {
   "cell_type": "code",
   "execution_count": null,
   "metadata": {},
   "outputs": [],
   "source": [
    "os.mkdir('wallpapers/testsitjoij')"
   ]
  },
  {
   "cell_type": "code",
   "execution_count": null,
   "metadata": {},
   "outputs": [],
   "source": [
    "test = tempfile.mkdtemp(dir='wallpapers')"
   ]
  },
  {
   "cell_type": "code",
   "execution_count": null,
   "metadata": {},
   "outputs": [],
   "source": [
    "test"
   ]
  },
  {
   "cell_type": "code",
   "execution_count": null,
   "metadata": {},
   "outputs": [],
   "source": [
    "from threading import Thread\n",
    "from queue import Queue\n",
    "from time import sleep"
   ]
  },
  {
   "cell_type": "code",
   "execution_count": null,
   "metadata": {},
   "outputs": [],
   "source": [
    "testQ = Queue(maxsize=5)\n",
    "for i in range(5):\n",
    "    testQ.put(i)\n",
    "    \n",
    "for i in range(10):\n",
    "    Thread(target=testQ.put, args=(i,)).start()\n",
    "    print(f'put: {i}')\n",
    "    print(f'full: {testQ.full()}')\n",
    "    print(f'get: {testQ.get()}')\n",
    "    print()\n",
    "    \n",
    "    "
   ]
  },
  {
   "cell_type": "markdown",
   "metadata": {},
   "source": [
    "# Build Buffer!"
   ]
  },
  {
   "cell_type": "code",
   "execution_count": 2,
   "metadata": {},
   "outputs": [],
   "source": [
    "from redwallpaper import utils\n",
    "from redwallpaper.RedWallpaperScraper import RedWallpaperScraper \n",
    "\n",
    "wallpapers = RedWallpaperScraper('top', 'week')"
   ]
  },
  {
   "cell_type": "code",
   "execution_count": 121,
   "metadata": {},
   "outputs": [],
   "source": [
    "import os\n",
    "import shutil\n",
    "import tempfile\n",
    "from threading import Thread\n",
    "from redwallpaper import utils\n",
    "from queue import Queue\n",
    "\n",
    "class RedWallpaperBuffer:\n",
    "    def __init__(self, redwallpaperscraper, directory, buffersize=10):\n",
    "        self.redwallpaperscraper = redwallpaperscraper\n",
    "\n",
    "        self.directory = self.init_dir(directory)\n",
    "        self.directory_buffer = self.init_dir(directory, tmp=True)\n",
    "        \n",
    "        self.bufferQ = Queue(maxsize=buffersize)\n",
    "        self.buffersize = buffersize\n",
    "        self._buffercount = 0\n",
    "#         self.buffer()\n",
    "    \n",
    "    \n",
    "    def init_dir(self, directory, tmp=False):\n",
    "        \"\"\"\n",
    "        Initializes a directory, if it doesn't exist, it'll make the directory.\n",
    "        If tmp=True, it'll create a temporary directory nested within the input directory.\n",
    "        \"\"\"\n",
    "        if not os.path.exists(directory):\n",
    "            os.mkdir(directory)\n",
    "        if tmp:\n",
    "            tmpdirectory = tempfile.mkdtemp(dir=directory)\n",
    "            return tmpdirectory\n",
    "        return directory\n",
    "    \n",
    "    \n",
    "    def buffer(self):\n",
    "        try:\n",
    "            fullsize, thumbnail = next(self.redwallpaperscraper)\n",
    "        except StopIteration:\n",
    "            return\n",
    "        filename = None\n",
    "        if thumbnail:\n",
    "            filename = utils.download_image(thumbnail, self.directory_buffer)\n",
    "        else:\n",
    "            filename = utils.download_image(fullsize, self.directory_buffer)\n",
    "            utils.resize_img_file(filename)\n",
    "        self.bufferQ.put((filename, fullsize))\n",
    "        self._buffercount += 1\n",
    "        \n",
    "        \n",
    "    def __iter__(self):\n",
    "        return self\n",
    "    \n",
    "    \n",
    "    def __next__(self):\n",
    "        if not self.bufferQ.empty():\n",
    "            self._buffercount -= 1\n",
    "            return self.bufferQ.get()\n",
    "        self.__del__()\n",
    "        raise StopIteration\n",
    "            \n",
    "            \n",
    "    def __del__(self):\n",
    "        shutil.rmtree(self.directory_buffer)"
   ]
  },
  {
   "cell_type": "code",
   "execution_count": 122,
   "metadata": {
    "scrolled": true
   },
   "outputs": [
    {
     "data": {
      "text/plain": [
       "[('https://i.redd.it/nqbaxbz2l8041.png',\n",
       "  'https://b.thumbs.redditmedia.com/Rro9gvfXGzY7XVYgG-dM3PNjO-80K94y_HcPLRsmBeg.jpg'),\n",
       " ('https://i.redd.it/n3auvcyzl7041.png',\n",
       "  'https://b.thumbs.redditmedia.com/Ix7pVSjMPCRz0aJzwL-XfhhgTV0lJqsd2mkrZqMoPTc.jpg'),\n",
       " ('https://i.imgur.com/I2vYutk.png', None),\n",
       " ('https://i.imgur.com/s0sa31t.png', None),\n",
       " ('https://i.imgur.com/2waay0U.png', None)]"
      ]
     },
     "execution_count": 122,
     "metadata": {},
     "output_type": "execute_result"
    }
   ],
   "source": [
    "wallpapers[45:50]"
   ]
  },
  {
   "cell_type": "code",
   "execution_count": 125,
   "metadata": {
    "scrolled": true
   },
   "outputs": [],
   "source": [
    "buffer = RedWallpaperBuffer(iter(wallpapers[45:50]), 'wallpapers')"
   ]
  },
  {
   "cell_type": "code",
   "execution_count": 117,
   "metadata": {},
   "outputs": [],
   "source": [
    "del buffer"
   ]
  },
  {
   "cell_type": "code",
   "execution_count": 124,
   "metadata": {},
   "outputs": [],
   "source": [
    "for _ in range(5):\n",
    "    buffer.buffer()"
   ]
  },
  {
   "cell_type": "code",
   "execution_count": 120,
   "metadata": {},
   "outputs": [
    {
     "data": {
      "text/plain": [
       "5"
      ]
     },
     "execution_count": 120,
     "metadata": {},
     "output_type": "execute_result"
    }
   ],
   "source": [
    "buffer._buffercount"
   ]
  },
  {
   "cell_type": "code",
   "execution_count": 108,
   "metadata": {},
   "outputs": [
    {
     "data": {
      "text/plain": [
       "'wallpapers/tmp3_81nvwi'"
      ]
     },
     "execution_count": 108,
     "metadata": {},
     "output_type": "execute_result"
    }
   ],
   "source": [
    "buffer.directory_buffer"
   ]
  },
  {
   "cell_type": "code",
   "execution_count": 114,
   "metadata": {},
   "outputs": [
    {
     "ename": "StopIteration",
     "evalue": "",
     "output_type": "error",
     "traceback": [
      "\u001b[0;31m---------------------------------------------------------------------------\u001b[0m",
      "\u001b[0;31mStopIteration\u001b[0m                             Traceback (most recent call last)",
      "\u001b[0;32m<ipython-input-114-a7aba6040157>\u001b[0m in \u001b[0;36m<module>\u001b[0;34m\u001b[0m\n\u001b[0;32m----> 1\u001b[0;31m \u001b[0mnext\u001b[0m\u001b[0;34m(\u001b[0m\u001b[0mbuffer\u001b[0m\u001b[0;34m)\u001b[0m\u001b[0;34m\u001b[0m\u001b[0;34m\u001b[0m\u001b[0m\n\u001b[0m",
      "\u001b[0;32m<ipython-input-101-cecdbcce698a>\u001b[0m in \u001b[0;36m__next__\u001b[0;34m(self)\u001b[0m\n\u001b[1;32m     59\u001b[0m             \u001b[0;32mreturn\u001b[0m \u001b[0mself\u001b[0m\u001b[0;34m.\u001b[0m\u001b[0mbufferQ\u001b[0m\u001b[0;34m.\u001b[0m\u001b[0mget\u001b[0m\u001b[0;34m(\u001b[0m\u001b[0;34m)\u001b[0m\u001b[0;34m\u001b[0m\u001b[0;34m\u001b[0m\u001b[0m\n\u001b[1;32m     60\u001b[0m         \u001b[0mself\u001b[0m\u001b[0;34m.\u001b[0m\u001b[0mdel_buffer\u001b[0m\u001b[0;34m(\u001b[0m\u001b[0;34m)\u001b[0m\u001b[0;34m\u001b[0m\u001b[0;34m\u001b[0m\u001b[0m\n\u001b[0;32m---> 61\u001b[0;31m         \u001b[0;32mraise\u001b[0m \u001b[0mStopIteration\u001b[0m\u001b[0;34m\u001b[0m\u001b[0;34m\u001b[0m\u001b[0m\n\u001b[0m\u001b[1;32m     62\u001b[0m \u001b[0;34m\u001b[0m\u001b[0m\n\u001b[1;32m     63\u001b[0m \u001b[0;34m\u001b[0m\u001b[0m\n",
      "\u001b[0;31mStopIteration\u001b[0m: "
     ]
    }
   ],
   "source": [
    "next(buffer)"
   ]
  }
 ],
 "metadata": {
  "kernelspec": {
   "display_name": "Python 3",
   "language": "python",
   "name": "python3"
  },
  "language_info": {
   "codemirror_mode": {
    "name": "ipython",
    "version": 3
   },
   "file_extension": ".py",
   "mimetype": "text/x-python",
   "name": "python",
   "nbconvert_exporter": "python",
   "pygments_lexer": "ipython3",
   "version": "3.7.5"
  }
 },
 "nbformat": 4,
 "nbformat_minor": 2
}
