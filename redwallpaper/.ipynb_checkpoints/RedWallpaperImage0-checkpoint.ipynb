{
 "cells": [
  {
   "cell_type": "code",
   "execution_count": 1,
   "metadata": {},
   "outputs": [],
   "source": [
    "from itertools import permutations\n",
    "from sklearn.cluster import KMeans\n",
    "import os\n",
    "import tempfile\n",
    "import requests\n",
    "import cv2\n",
    "import numpy as np"
   ]
  },
  {
   "cell_type": "code",
   "execution_count": 38,
   "metadata": {},
   "outputs": [],
   "source": [
    "class RedWallpaperImage(np.ndarray):\n",
    "    def __new__(cls, filepath, color='BGR'):\n",
    "        img = cv2.imread(filepath)\n",
    "        self = np.asarray(img).view(cls)\n",
    "        self.color = color\n",
    "        return self\n",
    "\n",
    "    \n",
    "    def __array_finalize__(self, img):\n",
    "        if img is None:\n",
    "            return\n",
    "        self.color = getattr(img, 'color', None)\n",
    "\n",
    "        \n",
    "    def cluster_color(self, k=3):\n",
    "        # Flatten image array\n",
    "        self = self.reshape((self.shape[0] * self.shape[1], 3))\n",
    "        clt = KMeans(n_clusters = k)\n",
    "        clt.fit(self)\n",
    "        return clt.cluster_centers_\n",
    "    \n",
    "    \n",
    "\n",
    "    def convert_color(self, color_out):\n",
    "        img = self\n",
    "        shape = img.shape\n",
    "        if len(shape) < 3:\n",
    "            img = img.reshape((1,)+shape)\n",
    "        img = img.astype('uint8')\n",
    "            \n",
    "        if self.color == 'RGB':\n",
    "            if color_out == 'BGR':\n",
    "                img = cv2.cvtColor(img, cv2.COLOR_RGB2BGR)\n",
    "            elif color_out == 'LAB':\n",
    "                img = cv2.cvtColor(img, cv2.COLOR_RGB2LAB)\n",
    "\n",
    "        elif self.color == 'BGR':\n",
    "            if color_out == 'RGB':\n",
    "                img = cv2.cvtColor(img, cv2.COLOR_BGR2RGB)\n",
    "            elif color_out == 'LAB':\n",
    "                img = cv2.cv2Color(img, cv2.COLOR_BGR2LAB)\n",
    "\n",
    "        elif self.color == 'LAB':\n",
    "            if color_out == 'RGB':\n",
    "                img = cv2.cvtColor(img, cv2.COLOR_LAB2RGB)\n",
    "            elif color_out == 'BGR':\n",
    "                img = cv2.cv2Color(img, cv2.COLOR_LAB2BGR)\n",
    "        \n",
    "        if len(shape) < 3:\n",
    "            img = img.reshape(shape)\n",
    "        self = img\n",
    "        self.color = color_out\n",
    "        \n",
    "        return self"
   ]
  },
  {
   "cell_type": "code",
   "execution_count": 3,
   "metadata": {},
   "outputs": [],
   "source": [
    "def read_image(filepath, color=None):\n",
    "    \"\"\"\n",
    "    Function for reading in an image\n",
    "    \"\"\"\n",
    "\n",
    "    \n",
    "    \n",
    "    if color == 'RGB':\n",
    "        image = cv2.cvtColor(image, cv2.COLOR_BGR2RGB)\n",
    "    elif color == 'LAB':\n",
    "        image = cv2.cvtColor(image, cv2.COLOR_BGR2RGB)\n",
    "    \n",
    "    return image\n",
    "\n"
   ]
  },
  {
   "cell_type": "code",
   "execution_count": 31,
   "metadata": {},
   "outputs": [
    {
     "data": {
      "text/plain": [
       "(1, 2)"
      ]
     },
     "execution_count": 31,
     "metadata": {},
     "output_type": "execute_result"
    }
   ],
   "source": [
    "(1,) + (2,)"
   ]
  },
  {
   "cell_type": "code",
   "execution_count": 39,
   "metadata": {},
   "outputs": [],
   "source": [
    "tmp0 = RedWallpaperImage('wallpapers/tmp7_.jpg')"
   ]
  },
  {
   "cell_type": "code",
   "execution_count": 37,
   "metadata": {},
   "outputs": [
    {
     "data": {
      "text/plain": [
       "'BGR'"
      ]
     },
     "execution_count": 37,
     "metadata": {},
     "output_type": "execute_result"
    }
   ],
   "source": [
    "tmp0.convert_color()"
   ]
  },
  {
   "cell_type": "code",
   "execution_count": 29,
   "metadata": {},
   "outputs": [],
   "source": [
    "tmp0.color"
   ]
  },
  {
   "cell_type": "code",
   "execution_count": 5,
   "metadata": {},
   "outputs": [],
   "source": [
    "read_image('wallpapers/tmp0_.png')"
   ]
  },
  {
   "cell_type": "code",
   "execution_count": null,
   "metadata": {},
   "outputs": [],
   "source": [
    "sorted(os.listdir('wallpapers'))"
   ]
  },
  {
   "cell_type": "code",
   "execution_count": null,
   "metadata": {},
   "outputs": [],
   "source": [
    "tmp1 = RedWallpaperImage(tmp0, 'RGB')"
   ]
  },
  {
   "cell_type": "code",
   "execution_count": null,
   "metadata": {},
   "outputs": [],
   "source": [
    "tmp1.get_colors(3)"
   ]
  }
 ],
 "metadata": {
  "kernelspec": {
   "display_name": "Python 3",
   "language": "python",
   "name": "python3"
  },
  "language_info": {
   "codemirror_mode": {
    "name": "ipython",
    "version": 3
   },
   "file_extension": ".py",
   "mimetype": "text/x-python",
   "name": "python",
   "nbconvert_exporter": "python",
   "pygments_lexer": "ipython3",
   "version": "3.7.5"
  }
 },
 "nbformat": 4,
 "nbformat_minor": 2
}
